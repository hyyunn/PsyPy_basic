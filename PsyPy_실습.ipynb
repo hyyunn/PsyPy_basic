{
  "nbformat": 4,
  "nbformat_minor": 0,
  "metadata": {
    "colab": {
      "name": "PsyPy 실습",
      "provenance": [],
      "include_colab_link": true
    },
    "kernelspec": {
      "name": "python3",
      "display_name": "Python 3"
    }
  },
  "cells": [
    {
      "cell_type": "markdown",
      "metadata": {
        "id": "view-in-github",
        "colab_type": "text"
      },
      "source": [
        "<a href=\"https://colab.research.google.com/github/hyyunn/PsyPy_basic/blob/master/PsyPy_%EC%8B%A4%EC%8A%B5.ipynb\" target=\"_parent\"><img src=\"https://colab.research.google.com/assets/colab-badge.svg\" alt=\"Open In Colab\"/></a>"
      ]
    },
    {
      "cell_type": "markdown",
      "metadata": {
        "id": "I5LnEJmD5eqF",
        "colab_type": "text"
      },
      "source": [
        "#Day3\n"
      ]
    },
    {
      "cell_type": "code",
      "metadata": {
        "id": "Dg5SUP055cE0",
        "colab_type": "code",
        "colab": {
          "base_uri": "https://localhost:8080/",
          "height": 34
        },
        "outputId": "acd06560-29ab-4f99-97a8-d5aa5df005fa"
      },
      "source": [
        "#함수만들기 \n",
        "def func(x,y, z =1.5):\n",
        "  if z > 1 :\n",
        "    return z*(x+y)\n",
        "  else:\n",
        "    return z/(x+y)\n",
        "\n",
        "# 로컬\n",
        "def func2():\n",
        "  a =[]\n",
        "  for i in range(5):\n",
        "    a.append(i)\n",
        "\n",
        "#전역\n",
        "a =[]\n",
        "def func3():\n",
        "  for i in range(5):\n",
        "    a.append(i)\n",
        "\n"
      ],
      "execution_count": 5,
      "outputs": [
        {
          "output_type": "stream",
          "text": [
            "None\n"
          ],
          "name": "stdout"
        }
      ]
    },
    {
      "cell_type": "code",
      "metadata": {
        "id": "PfUYn06JIaEl",
        "colab_type": "code",
        "colab": {}
      },
      "source": [
        ""
      ],
      "execution_count": 0,
      "outputs": []
    },
    {
      "cell_type": "code",
      "metadata": {
        "id": "6q512bd8ISUV",
        "colab_type": "code",
        "colab": {}
      },
      "source": [
        ""
      ],
      "execution_count": 0,
      "outputs": []
    },
    {
      "cell_type": "markdown",
      "metadata": {
        "id": "5m4xfDlR5iQ0",
        "colab_type": "text"
      },
      "source": [
        ""
      ]
    },
    {
      "cell_type": "markdown",
      "metadata": {
        "id": "uRlQU8iH5iKa",
        "colab_type": "text"
      },
      "source": [
        ""
      ]
    }
  ]
}